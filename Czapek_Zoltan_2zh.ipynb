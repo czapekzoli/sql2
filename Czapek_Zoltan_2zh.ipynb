{
    "metadata": {
        "kernelspec": {
            "name": "SQL",
            "display_name": "SQL",
            "language": "sql"
        },
        "language_info": {
            "name": "sql",
            "version": ""
        }
    },
    "nbformat_minor": 2,
    "nbformat": 4,
    "cells": [
        {
            "cell_type": "code",
            "source": [
                "SELECT SZALLAS_ID, SZALLAS_NEV, csillagok_szama,\r\n",
                "    IIF(CSILLAGOK_SZAMA>=3, 'Igen', 'Nem') AS 'Legalább 3 csillagos_e'\r\n",
                "FROM Szallashely\r\n",
                "WHERE SZALLAS_ID NOT IN (\r\n",
                "    SELECT SZALLAS_FK\r\n",
                "    FROM Szoba\r\n",
                "    WHERE FEROHELY=3\r\n",
                ")"
            ],
            "metadata": {
                "azdata_cell_guid": "121447bd-580c-4eeb-bb19-bdec17b0df5c",
                "language": "sql",
                "tags": []
            },
            "outputs": [
                {
                    "output_type": "display_data",
                    "data": {
                        "text/html": "(2 rows affected)"
                    },
                    "metadata": {}
                },
                {
                    "output_type": "display_data",
                    "data": {
                        "text/html": "Total execution time: 00:00:00.090"
                    },
                    "metadata": {}
                },
                {
                    "output_type": "execute_result",
                    "metadata": {},
                    "execution_count": 1,
                    "data": {
                        "application/vnd.dataresource+json": {
                            "schema": {
                                "fields": [
                                    {
                                        "name": "SZALLAS_ID"
                                    },
                                    {
                                        "name": "SZALLAS_NEV"
                                    },
                                    {
                                        "name": "csillagok_szama"
                                    },
                                    {
                                        "name": "Legalább 3 csillagos_e"
                                    }
                                ]
                            },
                            "data": [
                                {
                                    "SZALLAS_ID": "19",
                                    "SZALLAS_NEV": "Nyárfás Vendégház",
                                    "csillagok_szama": "0",
                                    "Legalább 3 csillagos_e": "Nem"
                                },
                                {
                                    "SZALLAS_ID": "21",
                                    "SZALLAS_NEV": "Müller Vendégház",
                                    "csillagok_szama": "0",
                                    "Legalább 3 csillagos_e": "Nem"
                                }
                            ]
                        },
                        "text/html": [
                            "<table>",
                            "<tr><th>SZALLAS_ID</th><th>SZALLAS_NEV</th><th>csillagok_szama</th><th>Legalább 3 csillagos_e</th></tr>",
                            "<tr><td>19</td><td>Nyárfás Vendégház</td><td>0</td><td>Nem</td></tr>",
                            "<tr><td>21</td><td>Müller Vendégház</td><td>0</td><td>Nem</td></tr>",
                            "</table>"
                        ]
                    }
                }
            ],
            "execution_count": 1
        },
        {
            "cell_type": "code",
            "source": [
                "SELECT  szob.SZOBA_ID AS 'Szoba azon',\r\n",
                "        szob.FEROHELY AS 'Férőhely',\r\n",
                "        DENSE_RANK() OVER (ORDER BY COUNT(fog.FOGLALAS_PK) DESC, szob.FEROHELY ASC) AS 'Helyezesé'\r\n",
                "FROM SZOBA szob\r\n",
                "LEFT JOIN FOGLALAS fog ON szob.SZOBA_ID = fog.SZOBA_FK\r\n",
                "GROUP BY szob.SZOBA_ID, szob.FEROHELY"
            ],
            "metadata": {
                "azdata_cell_guid": "7361ee0a-1834-4adb-adbb-4fc63b36dde9",
                "language": "sql"
            },
            "outputs": [
                {
                    "output_type": "display_data",
                    "data": {
                        "text/html": "(294 rows affected)"
                    },
                    "metadata": {}
                },
                {
                    "output_type": "display_data",
                    "data": {
                        "text/html": "Total execution time: 00:00:00.044"
                    },
                    "metadata": {}
                },
                {
                    "output_type": "execute_result",
                    "execution_count": 4,
                    "data": {
                        "application/vnd.dataresource+json": {
                            "schema": {
                                "fields": [
                                    {
                                        "name": "Szoba azon"
                                    },
                                    {
                                        "name": "Férőhely"
                                    },
                                    {
                                        "name": "Helyezesé"
                                    }
                                ]
                            },
                            "data": [
                                {
                                    "Szoba azon": "58",
                                    "Férőhely": "2",
                                    "Helyezesé": "1"
                                },
                                {
                                    "Szoba azon": "182",
                                    "Férőhely": "2",
                                    "Helyezesé": "2"
                                },
                                {
                                    "Szoba azon": "185",
                                    "Férőhely": "3",
                                    "Helyezesé": "3"
                                },
                                {
                                    "Szoba azon": "70",
                                    "Férőhely": "2",
                                    "Helyezesé": "4"
                                },
                                {
                                    "Szoba azon": "94",
                                    "Férőhely": "2",
                                    "Helyezesé": "5"
                                },
                                {
                                    "Szoba azon": "12",
                                    "Férőhely": "2",
                                    "Helyezesé": "6"
                                },
                                {
                                    "Szoba azon": "172",
                                    "Férőhely": "2",
                                    "Helyezesé": "6"
                                },
                                {
                                    "Szoba azon": "35",
                                    "Férőhely": "3",
                                    "Helyezesé": "7"
                                },
                                {
                                    "Szoba azon": "48",
                                    "Férőhely": "3",
                                    "Helyezesé": "7"
                                },
                                {
                                    "Szoba azon": "74",
                                    "Férőhely": "3",
                                    "Helyezesé": "7"
                                },
                                {
                                    "Szoba azon": "122",
                                    "Férőhely": "3",
                                    "Helyezesé": "7"
                                },
                                {
                                    "Szoba azon": "121",
                                    "Férőhely": "2",
                                    "Helyezesé": "8"
                                },
                                {
                                    "Szoba azon": "140",
                                    "Férőhely": "2",
                                    "Helyezesé": "8"
                                },
                                {
                                    "Szoba azon": "110",
                                    "Férőhely": "2",
                                    "Helyezesé": "8"
                                },
                                {
                                    "Szoba azon": "55",
                                    "Férőhely": "2",
                                    "Helyezesé": "8"
                                },
                                {
                                    "Szoba azon": "38",
                                    "Férőhely": "2",
                                    "Helyezesé": "8"
                                },
                                {
                                    "Szoba azon": "1",
                                    "Férőhely": "3",
                                    "Helyezesé": "9"
                                },
                                {
                                    "Szoba azon": "3",
                                    "Férőhely": "3",
                                    "Helyezesé": "9"
                                },
                                {
                                    "Szoba azon": "43",
                                    "Férőhely": "3",
                                    "Helyezesé": "9"
                                },
                                {
                                    "Szoba azon": "83",
                                    "Férőhely": "3",
                                    "Helyezesé": "9"
                                },
                                {
                                    "Szoba azon": "88",
                                    "Férőhely": "3",
                                    "Helyezesé": "9"
                                },
                                {
                                    "Szoba azon": "89",
                                    "Férőhely": "3",
                                    "Helyezesé": "9"
                                },
                                {
                                    "Szoba azon": "117",
                                    "Férőhely": "3",
                                    "Helyezesé": "9"
                                },
                                {
                                    "Szoba azon": "198",
                                    "Férőhely": "3",
                                    "Helyezesé": "9"
                                },
                                {
                                    "Szoba azon": "165",
                                    "Férőhely": "2",
                                    "Helyezesé": "10"
                                },
                                {
                                    "Szoba azon": "149",
                                    "Férőhely": "2",
                                    "Helyezesé": "10"
                                },
                                {
                                    "Szoba azon": "156",
                                    "Férőhely": "2",
                                    "Helyezesé": "10"
                                },
                                {
                                    "Szoba azon": "163",
                                    "Férőhely": "2",
                                    "Helyezesé": "10"
                                },
                                {
                                    "Szoba azon": "118",
                                    "Férőhely": "2",
                                    "Helyezesé": "10"
                                },
                                {
                                    "Szoba azon": "109",
                                    "Férőhely": "2",
                                    "Helyezesé": "10"
                                },
                                {
                                    "Szoba azon": "127",
                                    "Férőhely": "2",
                                    "Helyezesé": "10"
                                },
                                {
                                    "Szoba azon": "139",
                                    "Férőhely": "2",
                                    "Helyezesé": "10"
                                },
                                {
                                    "Szoba azon": "80",
                                    "Férőhely": "2",
                                    "Helyezesé": "10"
                                },
                                {
                                    "Szoba azon": "59",
                                    "Férőhely": "2",
                                    "Helyezesé": "10"
                                },
                                {
                                    "Szoba azon": "39",
                                    "Férőhely": "2",
                                    "Helyezesé": "10"
                                },
                                {
                                    "Szoba azon": "27",
                                    "Férőhely": "3",
                                    "Helyezesé": "11"
                                },
                                {
                                    "Szoba azon": "49",
                                    "Férőhely": "3",
                                    "Helyezesé": "11"
                                },
                                {
                                    "Szoba azon": "96",
                                    "Férőhely": "3",
                                    "Helyezesé": "11"
                                },
                                {
                                    "Szoba azon": "97",
                                    "Férőhely": "3",
                                    "Helyezesé": "11"
                                },
                                {
                                    "Szoba azon": "138",
                                    "Férőhely": "3",
                                    "Helyezesé": "11"
                                },
                                {
                                    "Szoba azon": "143",
                                    "Férőhely": "3",
                                    "Helyezesé": "11"
                                },
                                {
                                    "Szoba azon": "115",
                                    "Férőhely": "3",
                                    "Helyezesé": "11"
                                },
                                {
                                    "Szoba azon": "193",
                                    "Férőhely": "3",
                                    "Helyezesé": "11"
                                },
                                {
                                    "Szoba azon": "187",
                                    "Férőhely": "3",
                                    "Helyezesé": "11"
                                },
                                {
                                    "Szoba azon": "195",
                                    "Férőhely": "2",
                                    "Helyezesé": "12"
                                },
                                {
                                    "Szoba azon": "161",
                                    "Férőhely": "2",
                                    "Helyezesé": "12"
                                },
                                {
                                    "Szoba azon": "150",
                                    "Férőhely": "2",
                                    "Helyezesé": "12"
                                },
                                {
                                    "Szoba azon": "148",
                                    "Férőhely": "2",
                                    "Helyezesé": "12"
                                },
                                {
                                    "Szoba azon": "169",
                                    "Férőhely": "2",
                                    "Helyezesé": "12"
                                },
                                {
                                    "Szoba azon": "106",
                                    "Férőhely": "2",
                                    "Helyezesé": "12"
                                },
                                {
                                    "Szoba azon": "126",
                                    "Férőhely": "2",
                                    "Helyezesé": "12"
                                },
                                {
                                    "Szoba azon": "145",
                                    "Férőhely": "2",
                                    "Helyezesé": "12"
                                },
                                {
                                    "Szoba azon": "141",
                                    "Férőhely": "2",
                                    "Helyezesé": "12"
                                },
                                {
                                    "Szoba azon": "130",
                                    "Férőhely": "2",
                                    "Helyezesé": "12"
                                },
                                {
                                    "Szoba azon": "137",
                                    "Férőhely": "2",
                                    "Helyezesé": "12"
                                },
                                {
                                    "Szoba azon": "78",
                                    "Férőhely": "2",
                                    "Helyezesé": "12"
                                },
                                {
                                    "Szoba azon": "42",
                                    "Férőhely": "2",
                                    "Helyezesé": "12"
                                },
                                {
                                    "Szoba azon": "64",
                                    "Férőhely": "2",
                                    "Helyezesé": "12"
                                },
                                {
                                    "Szoba azon": "67",
                                    "Férőhely": "2",
                                    "Helyezesé": "12"
                                },
                                {
                                    "Szoba azon": "28",
                                    "Férőhely": "2",
                                    "Helyezesé": "12"
                                },
                                {
                                    "Szoba azon": "29",
                                    "Férőhely": "2",
                                    "Helyezesé": "12"
                                },
                                {
                                    "Szoba azon": "19",
                                    "Férőhely": "2",
                                    "Helyezesé": "12"
                                },
                                {
                                    "Szoba azon": "33",
                                    "Férőhely": "2",
                                    "Helyezesé": "12"
                                },
                                {
                                    "Szoba azon": "4",
                                    "Férőhely": "2",
                                    "Helyezesé": "12"
                                },
                                {
                                    "Szoba azon": "7",
                                    "Férőhely": "2",
                                    "Helyezesé": "12"
                                },
                                {
                                    "Szoba azon": "15",
                                    "Férőhely": "2",
                                    "Helyezesé": "12"
                                },
                                {
                                    "Szoba azon": "17",
                                    "Férőhely": "3",
                                    "Helyezesé": "13"
                                },
                                {
                                    "Szoba azon": "18",
                                    "Férőhely": "3",
                                    "Helyezesé": "13"
                                },
                                {
                                    "Szoba azon": "6",
                                    "Férőhely": "3",
                                    "Helyezesé": "13"
                                },
                                {
                                    "Szoba azon": "9",
                                    "Férőhely": "3",
                                    "Helyezesé": "13"
                                },
                                {
                                    "Szoba azon": "22",
                                    "Férőhely": "3",
                                    "Helyezesé": "13"
                                },
                                {
                                    "Szoba azon": "36",
                                    "Férőhely": "3",
                                    "Helyezesé": "13"
                                },
                                {
                                    "Szoba azon": "44",
                                    "Férőhely": "3",
                                    "Helyezesé": "13"
                                },
                                {
                                    "Szoba azon": "54",
                                    "Férőhely": "3",
                                    "Helyezesé": "13"
                                },
                                {
                                    "Szoba azon": "77",
                                    "Férőhely": "3",
                                    "Helyezesé": "13"
                                },
                                {
                                    "Szoba azon": "82",
                                    "Férőhely": "3",
                                    "Helyezesé": "13"
                                },
                                {
                                    "Szoba azon": "92",
                                    "Férőhely": "3",
                                    "Helyezesé": "13"
                                },
                                {
                                    "Szoba azon": "132",
                                    "Férőhely": "3",
                                    "Helyezesé": "13"
                                },
                                {
                                    "Szoba azon": "133",
                                    "Férőhely": "3",
                                    "Helyezesé": "13"
                                },
                                {
                                    "Szoba azon": "134",
                                    "Férőhely": "3",
                                    "Helyezesé": "13"
                                },
                                {
                                    "Szoba azon": "146",
                                    "Férőhely": "3",
                                    "Helyezesé": "13"
                                },
                                {
                                    "Szoba azon": "124",
                                    "Férőhely": "3",
                                    "Helyezesé": "13"
                                },
                                {
                                    "Szoba azon": "120",
                                    "Férőhely": "3",
                                    "Helyezesé": "13"
                                },
                                {
                                    "Szoba azon": "181",
                                    "Férőhely": "3",
                                    "Helyezesé": "13"
                                },
                                {
                                    "Szoba azon": "176",
                                    "Férőhely": "3",
                                    "Helyezesé": "13"
                                },
                                {
                                    "Szoba azon": "197",
                                    "Férőhely": "3",
                                    "Helyezesé": "13"
                                },
                                {
                                    "Szoba azon": "188",
                                    "Férőhely": "3",
                                    "Helyezesé": "13"
                                },
                                {
                                    "Szoba azon": "189",
                                    "Férőhely": "2",
                                    "Helyezesé": "14"
                                },
                                {
                                    "Szoba azon": "190",
                                    "Férőhely": "2",
                                    "Helyezesé": "14"
                                },
                                {
                                    "Szoba azon": "191",
                                    "Férőhely": "2",
                                    "Helyezesé": "14"
                                },
                                {
                                    "Szoba azon": "170",
                                    "Férőhely": "2",
                                    "Helyezesé": "14"
                                },
                                {
                                    "Szoba azon": "171",
                                    "Férőhely": "2",
                                    "Helyezesé": "14"
                                },
                                {
                                    "Szoba azon": "168",
                                    "Férőhely": "2",
                                    "Helyezesé": "14"
                                },
                                {
                                    "Szoba azon": "175",
                                    "Férőhely": "2",
                                    "Helyezesé": "14"
                                },
                                {
                                    "Szoba azon": "157",
                                    "Férőhely": "2",
                                    "Helyezesé": "14"
                                },
                                {
                                    "Szoba azon": "164",
                                    "Férőhely": "2",
                                    "Helyezesé": "14"
                                },
                                {
                                    "Szoba azon": "154",
                                    "Férőhely": "2",
                                    "Helyezesé": "14"
                                },
                                {
                                    "Szoba azon": "119",
                                    "Férőhely": "2",
                                    "Helyezesé": "14"
                                },
                                {
                                    "Szoba azon": "107",
                                    "Férőhely": "2",
                                    "Helyezesé": "14"
                                },
                                {
                                    "Szoba azon": "128",
                                    "Férőhely": "2",
                                    "Helyezesé": "14"
                                },
                                {
                                    "Szoba azon": "131",
                                    "Férőhely": "2",
                                    "Helyezesé": "14"
                                },
                                {
                                    "Szoba azon": "99",
                                    "Férőhely": "2",
                                    "Helyezesé": "14"
                                },
                                {
                                    "Szoba azon": "111",
                                    "Férőhely": "2",
                                    "Helyezesé": "14"
                                },
                                {
                                    "Szoba azon": "81",
                                    "Férőhely": "2",
                                    "Helyezesé": "14"
                                },
                                {
                                    "Szoba azon": "86",
                                    "Férőhely": "2",
                                    "Helyezesé": "14"
                                },
                                {
                                    "Szoba azon": "52",
                                    "Férőhely": "2",
                                    "Helyezesé": "14"
                                },
                                {
                                    "Szoba azon": "45",
                                    "Férőhely": "2",
                                    "Helyezesé": "14"
                                },
                                {
                                    "Szoba azon": "62",
                                    "Férőhely": "2",
                                    "Helyezesé": "14"
                                },
                                {
                                    "Szoba azon": "61",
                                    "Férőhely": "3",
                                    "Helyezesé": "15"
                                },
                                {
                                    "Szoba azon": "51",
                                    "Férőhely": "3",
                                    "Helyezesé": "15"
                                },
                                {
                                    "Szoba azon": "20",
                                    "Férőhely": "3",
                                    "Helyezesé": "15"
                                },
                                {
                                    "Szoba azon": "8",
                                    "Férőhely": "3",
                                    "Helyezesé": "15"
                                },
                                {
                                    "Szoba azon": "16",
                                    "Férőhely": "3",
                                    "Helyezesé": "15"
                                },
                                {
                                    "Szoba azon": "87",
                                    "Férőhely": "3",
                                    "Helyezesé": "15"
                                },
                                {
                                    "Szoba azon": "79",
                                    "Férőhely": "3",
                                    "Helyezesé": "15"
                                },
                                {
                                    "Szoba azon": "112",
                                    "Férőhely": "3",
                                    "Helyezesé": "15"
                                },
                                {
                                    "Szoba azon": "113",
                                    "Férőhely": "3",
                                    "Helyezesé": "15"
                                },
                                {
                                    "Szoba azon": "93",
                                    "Férőhely": "3",
                                    "Helyezesé": "15"
                                },
                                {
                                    "Szoba azon": "144",
                                    "Férőhely": "3",
                                    "Helyezesé": "15"
                                },
                                {
                                    "Szoba azon": "123",
                                    "Férőhely": "3",
                                    "Helyezesé": "15"
                                },
                                {
                                    "Szoba azon": "155",
                                    "Férőhely": "3",
                                    "Helyezesé": "15"
                                },
                                {
                                    "Szoba azon": "153",
                                    "Férőhely": "3",
                                    "Helyezesé": "15"
                                },
                                {
                                    "Szoba azon": "160",
                                    "Férőhely": "3",
                                    "Helyezesé": "15"
                                },
                                {
                                    "Szoba azon": "152",
                                    "Férőhely": "2",
                                    "Helyezesé": "16"
                                },
                                {
                                    "Szoba azon": "173",
                                    "Férőhely": "2",
                                    "Helyezesé": "16"
                                },
                                {
                                    "Szoba azon": "174",
                                    "Férőhely": "2",
                                    "Helyezesé": "16"
                                },
                                {
                                    "Szoba azon": "186",
                                    "Férőhely": "2",
                                    "Helyezesé": "16"
                                },
                                {
                                    "Szoba azon": "184",
                                    "Férőhely": "2",
                                    "Helyezesé": "16"
                                },
                                {
                                    "Szoba azon": "196",
                                    "Férőhely": "2",
                                    "Helyezesé": "16"
                                },
                                {
                                    "Szoba azon": "129",
                                    "Férőhely": "2",
                                    "Helyezesé": "16"
                                },
                                {
                                    "Szoba azon": "100",
                                    "Férőhely": "2",
                                    "Helyezesé": "16"
                                },
                                {
                                    "Szoba azon": "114",
                                    "Férőhely": "2",
                                    "Helyezesé": "16"
                                },
                                {
                                    "Szoba azon": "98",
                                    "Férőhely": "2",
                                    "Helyezesé": "16"
                                },
                                {
                                    "Szoba azon": "103",
                                    "Férőhely": "2",
                                    "Helyezesé": "16"
                                },
                                {
                                    "Szoba azon": "85",
                                    "Férőhely": "2",
                                    "Helyezesé": "16"
                                },
                                {
                                    "Szoba azon": "91",
                                    "Férőhely": "2",
                                    "Helyezesé": "16"
                                },
                                {
                                    "Szoba azon": "11",
                                    "Férőhely": "2",
                                    "Helyezesé": "16"
                                },
                                {
                                    "Szoba azon": "5",
                                    "Férőhely": "2",
                                    "Helyezesé": "16"
                                },
                                {
                                    "Szoba azon": "21",
                                    "Férőhely": "2",
                                    "Helyezesé": "16"
                                },
                                {
                                    "Szoba azon": "50",
                                    "Férőhely": "2",
                                    "Helyezesé": "16"
                                },
                                {
                                    "Szoba azon": "57",
                                    "Férőhely": "2",
                                    "Helyezesé": "16"
                                },
                                {
                                    "Szoba azon": "63",
                                    "Férőhely": "2",
                                    "Helyezesé": "16"
                                },
                                {
                                    "Szoba azon": "72",
                                    "Férőhely": "2",
                                    "Helyezesé": "16"
                                },
                                {
                                    "Szoba azon": "73",
                                    "Férőhely": "2",
                                    "Helyezesé": "16"
                                },
                                {
                                    "Szoba azon": "66",
                                    "Férőhely": "3",
                                    "Helyezesé": "17"
                                },
                                {
                                    "Szoba azon": "69",
                                    "Férőhely": "3",
                                    "Helyezesé": "17"
                                },
                                {
                                    "Szoba azon": "46",
                                    "Férőhely": "3",
                                    "Helyezesé": "17"
                                },
                                {
                                    "Szoba azon": "34",
                                    "Férőhely": "3",
                                    "Helyezesé": "17"
                                },
                                {
                                    "Szoba azon": "40",
                                    "Férőhely": "3",
                                    "Helyezesé": "17"
                                },
                                {
                                    "Szoba azon": "2",
                                    "Férőhely": "3",
                                    "Helyezesé": "17"
                                },
                                {
                                    "Szoba azon": "10",
                                    "Férőhely": "3",
                                    "Helyezesé": "17"
                                },
                                {
                                    "Szoba azon": "13",
                                    "Férőhely": "3",
                                    "Helyezesé": "17"
                                },
                                {
                                    "Szoba azon": "90",
                                    "Férőhely": "3",
                                    "Helyezesé": "17"
                                },
                                {
                                    "Szoba azon": "84",
                                    "Férőhely": "3",
                                    "Helyezesé": "17"
                                },
                                {
                                    "Szoba azon": "104",
                                    "Férőhely": "3",
                                    "Helyezesé": "17"
                                },
                                {
                                    "Szoba azon": "95",
                                    "Férőhely": "3",
                                    "Helyezesé": "17"
                                },
                                {
                                    "Szoba azon": "177",
                                    "Férőhely": "3",
                                    "Helyezesé": "17"
                                },
                                {
                                    "Szoba azon": "178",
                                    "Férőhely": "3",
                                    "Helyezesé": "17"
                                },
                                {
                                    "Szoba azon": "183",
                                    "Férőhely": "3",
                                    "Helyezesé": "17"
                                },
                                {
                                    "Szoba azon": "180",
                                    "Férőhely": "2",
                                    "Helyezesé": "18"
                                },
                                {
                                    "Szoba azon": "166",
                                    "Férőhely": "2",
                                    "Helyezesé": "18"
                                },
                                {
                                    "Szoba azon": "151",
                                    "Férőhely": "2",
                                    "Helyezesé": "18"
                                },
                                {
                                    "Szoba azon": "158",
                                    "Férőhely": "2",
                                    "Helyezesé": "18"
                                },
                                {
                                    "Szoba azon": "101",
                                    "Férőhely": "2",
                                    "Helyezesé": "18"
                                },
                                {
                                    "Szoba azon": "75",
                                    "Férőhely": "2",
                                    "Helyezesé": "18"
                                },
                                {
                                    "Szoba azon": "76",
                                    "Férőhely": "2",
                                    "Helyezesé": "18"
                                },
                                {
                                    "Szoba azon": "136",
                                    "Férőhely": "2",
                                    "Helyezesé": "18"
                                },
                                {
                                    "Szoba azon": "23",
                                    "Férőhely": "2",
                                    "Helyezesé": "18"
                                },
                                {
                                    "Szoba azon": "37",
                                    "Férőhely": "2",
                                    "Helyezesé": "18"
                                },
                                {
                                    "Szoba azon": "68",
                                    "Férőhely": "2",
                                    "Helyezesé": "18"
                                },
                                {
                                    "Szoba azon": "71",
                                    "Férőhely": "3",
                                    "Helyezesé": "19"
                                },
                                {
                                    "Szoba azon": "30",
                                    "Férőhely": "3",
                                    "Helyezesé": "19"
                                },
                                {
                                    "Szoba azon": "31",
                                    "Férőhely": "3",
                                    "Helyezesé": "19"
                                },
                                {
                                    "Szoba azon": "14",
                                    "Férőhely": "3",
                                    "Helyezesé": "19"
                                },
                                {
                                    "Szoba azon": "135",
                                    "Férőhely": "3",
                                    "Helyezesé": "19"
                                },
                                {
                                    "Szoba azon": "162",
                                    "Férőhely": "3",
                                    "Helyezesé": "19"
                                },
                                {
                                    "Szoba azon": "179",
                                    "Férőhely": "3",
                                    "Helyezesé": "19"
                                },
                                {
                                    "Szoba azon": "24",
                                    "Férőhely": "4",
                                    "Helyezesé": "20"
                                },
                                {
                                    "Szoba azon": "26",
                                    "Férőhely": "2",
                                    "Helyezesé": "21"
                                },
                                {
                                    "Szoba azon": "47",
                                    "Férőhely": "2",
                                    "Helyezesé": "21"
                                },
                                {
                                    "Szoba azon": "53",
                                    "Férőhely": "2",
                                    "Helyezesé": "21"
                                },
                                {
                                    "Szoba azon": "56",
                                    "Férőhely": "2",
                                    "Helyezesé": "21"
                                },
                                {
                                    "Szoba azon": "108",
                                    "Férőhely": "2",
                                    "Helyezesé": "21"
                                },
                                {
                                    "Szoba azon": "102",
                                    "Férőhely": "2",
                                    "Helyezesé": "21"
                                },
                                {
                                    "Szoba azon": "105",
                                    "Férőhely": "2",
                                    "Helyezesé": "21"
                                },
                                {
                                    "Szoba azon": "192",
                                    "Férőhely": "2",
                                    "Helyezesé": "21"
                                },
                                {
                                    "Szoba azon": "167",
                                    "Férőhely": "3",
                                    "Helyezesé": "22"
                                },
                                {
                                    "Szoba azon": "116",
                                    "Férőhely": "3",
                                    "Helyezesé": "22"
                                },
                                {
                                    "Szoba azon": "142",
                                    "Férőhely": "3",
                                    "Helyezesé": "22"
                                },
                                {
                                    "Szoba azon": "25",
                                    "Férőhely": "3",
                                    "Helyezesé": "22"
                                },
                                {
                                    "Szoba azon": "41",
                                    "Férőhely": "3",
                                    "Helyezesé": "22"
                                },
                                {
                                    "Szoba azon": "32",
                                    "Férőhely": "2",
                                    "Helyezesé": "23"
                                },
                                {
                                    "Szoba azon": "65",
                                    "Férőhely": "2",
                                    "Helyezesé": "23"
                                },
                                {
                                    "Szoba azon": "147",
                                    "Férőhely": "2",
                                    "Helyezesé": "23"
                                },
                                {
                                    "Szoba azon": "125",
                                    "Férőhely": "2",
                                    "Helyezesé": "23"
                                },
                                {
                                    "Szoba azon": "194",
                                    "Férőhely": "2",
                                    "Helyezesé": "23"
                                },
                                {
                                    "Szoba azon": "60",
                                    "Férőhely": "3",
                                    "Helyezesé": "24"
                                },
                                {
                                    "Szoba azon": "261",
                                    "Férőhely": "1",
                                    "Helyezesé": "25"
                                },
                                {
                                    "Szoba azon": "262",
                                    "Férőhely": "1",
                                    "Helyezesé": "25"
                                },
                                {
                                    "Szoba azon": "263",
                                    "Férőhely": "2",
                                    "Helyezesé": "26"
                                },
                                {
                                    "Szoba azon": "266",
                                    "Férőhely": "2",
                                    "Helyezesé": "26"
                                },
                                {
                                    "Szoba azon": "267",
                                    "Férőhely": "2",
                                    "Helyezesé": "26"
                                },
                                {
                                    "Szoba azon": "268",
                                    "Férőhely": "2",
                                    "Helyezesé": "26"
                                },
                                {
                                    "Szoba azon": "269",
                                    "Férőhely": "2",
                                    "Helyezesé": "26"
                                },
                                {
                                    "Szoba azon": "275",
                                    "Férőhely": "2",
                                    "Helyezesé": "26"
                                },
                                {
                                    "Szoba azon": "276",
                                    "Férőhely": "2",
                                    "Helyezesé": "26"
                                },
                                {
                                    "Szoba azon": "277",
                                    "Férőhely": "2",
                                    "Helyezesé": "26"
                                },
                                {
                                    "Szoba azon": "273",
                                    "Férőhely": "2",
                                    "Helyezesé": "26"
                                },
                                {
                                    "Szoba azon": "279",
                                    "Férőhely": "2",
                                    "Helyezesé": "26"
                                },
                                {
                                    "Szoba azon": "281",
                                    "Férőhely": "2",
                                    "Helyezesé": "26"
                                },
                                {
                                    "Szoba azon": "282",
                                    "Férőhely": "2",
                                    "Helyezesé": "26"
                                },
                                {
                                    "Szoba azon": "283",
                                    "Férőhely": "2",
                                    "Helyezesé": "26"
                                },
                                {
                                    "Szoba azon": "284",
                                    "Férőhely": "2",
                                    "Helyezesé": "26"
                                },
                                {
                                    "Szoba azon": "285",
                                    "Férőhely": "2",
                                    "Helyezesé": "26"
                                },
                                {
                                    "Szoba azon": "290",
                                    "Férőhely": "2",
                                    "Helyezesé": "26"
                                },
                                {
                                    "Szoba azon": "291",
                                    "Férőhely": "2",
                                    "Helyezesé": "26"
                                },
                                {
                                    "Szoba azon": "292",
                                    "Férőhely": "2",
                                    "Helyezesé": "26"
                                },
                                {
                                    "Szoba azon": "293",
                                    "Férőhely": "2",
                                    "Helyezesé": "26"
                                },
                                {
                                    "Szoba azon": "288",
                                    "Férőhely": "2",
                                    "Helyezesé": "26"
                                },
                                {
                                    "Szoba azon": "222",
                                    "Férőhely": "2",
                                    "Helyezesé": "26"
                                },
                                {
                                    "Szoba azon": "223",
                                    "Férőhely": "2",
                                    "Helyezesé": "26"
                                },
                                {
                                    "Szoba azon": "224",
                                    "Férőhely": "2",
                                    "Helyezesé": "26"
                                },
                                {
                                    "Szoba azon": "225",
                                    "Férőhely": "2",
                                    "Helyezesé": "26"
                                },
                                {
                                    "Szoba azon": "227",
                                    "Férőhely": "2",
                                    "Helyezesé": "26"
                                },
                                {
                                    "Szoba azon": "229",
                                    "Férőhely": "2",
                                    "Helyezesé": "26"
                                },
                                {
                                    "Szoba azon": "231",
                                    "Férőhely": "2",
                                    "Helyezesé": "26"
                                },
                                {
                                    "Szoba azon": "232",
                                    "Férőhely": "2",
                                    "Helyezesé": "26"
                                },
                                {
                                    "Szoba azon": "237",
                                    "Férőhely": "2",
                                    "Helyezesé": "26"
                                },
                                {
                                    "Szoba azon": "239",
                                    "Férőhely": "2",
                                    "Helyezesé": "26"
                                },
                                {
                                    "Szoba azon": "241",
                                    "Férőhely": "2",
                                    "Helyezesé": "26"
                                },
                                {
                                    "Szoba azon": "242",
                                    "Férőhely": "2",
                                    "Helyezesé": "26"
                                },
                                {
                                    "Szoba azon": "243",
                                    "Férőhely": "2",
                                    "Helyezesé": "26"
                                },
                                {
                                    "Szoba azon": "244",
                                    "Férőhely": "2",
                                    "Helyezesé": "26"
                                },
                                {
                                    "Szoba azon": "245",
                                    "Férőhely": "2",
                                    "Helyezesé": "26"
                                },
                                {
                                    "Szoba azon": "246",
                                    "Férőhely": "2",
                                    "Helyezesé": "26"
                                },
                                {
                                    "Szoba azon": "247",
                                    "Férőhely": "2",
                                    "Helyezesé": "26"
                                },
                                {
                                    "Szoba azon": "248",
                                    "Férőhely": "2",
                                    "Helyezesé": "26"
                                },
                                {
                                    "Szoba azon": "249",
                                    "Férőhely": "2",
                                    "Helyezesé": "26"
                                },
                                {
                                    "Szoba azon": "253",
                                    "Férőhely": "2",
                                    "Helyezesé": "26"
                                },
                                {
                                    "Szoba azon": "254",
                                    "Férőhely": "2",
                                    "Helyezesé": "26"
                                },
                                {
                                    "Szoba azon": "257",
                                    "Férőhely": "2",
                                    "Helyezesé": "26"
                                },
                                {
                                    "Szoba azon": "258",
                                    "Férőhely": "2",
                                    "Helyezesé": "26"
                                },
                                {
                                    "Szoba azon": "259",
                                    "Férőhely": "2",
                                    "Helyezesé": "26"
                                },
                                {
                                    "Szoba azon": "260",
                                    "Férőhely": "2",
                                    "Helyezesé": "26"
                                },
                                {
                                    "Szoba azon": "200",
                                    "Férőhely": "2",
                                    "Helyezesé": "26"
                                },
                                {
                                    "Szoba azon": "215",
                                    "Férőhely": "2",
                                    "Helyezesé": "26"
                                },
                                {
                                    "Szoba azon": "217",
                                    "Férőhely": "2",
                                    "Helyezesé": "26"
                                },
                                {
                                    "Szoba azon": "219",
                                    "Férőhely": "2",
                                    "Helyezesé": "26"
                                },
                                {
                                    "Szoba azon": "206",
                                    "Férőhely": "2",
                                    "Helyezesé": "26"
                                },
                                {
                                    "Szoba azon": "207",
                                    "Férőhely": "2",
                                    "Helyezesé": "26"
                                },
                                {
                                    "Szoba azon": "208",
                                    "Férőhely": "2",
                                    "Helyezesé": "26"
                                },
                                {
                                    "Szoba azon": "210",
                                    "Férőhely": "2",
                                    "Helyezesé": "26"
                                },
                                {
                                    "Szoba azon": "211",
                                    "Férőhely": "2",
                                    "Helyezesé": "26"
                                },
                                {
                                    "Szoba azon": "212",
                                    "Férőhely": "3",
                                    "Helyezesé": "27"
                                },
                                {
                                    "Szoba azon": "213",
                                    "Férőhely": "3",
                                    "Helyezesé": "27"
                                },
                                {
                                    "Szoba azon": "214",
                                    "Férőhely": "3",
                                    "Helyezesé": "27"
                                },
                                {
                                    "Szoba azon": "209",
                                    "Férőhely": "3",
                                    "Helyezesé": "27"
                                },
                                {
                                    "Szoba azon": "220",
                                    "Férőhely": "3",
                                    "Helyezesé": "27"
                                },
                                {
                                    "Szoba azon": "221",
                                    "Férőhely": "3",
                                    "Helyezesé": "27"
                                },
                                {
                                    "Szoba azon": "218",
                                    "Férőhely": "3",
                                    "Helyezesé": "27"
                                },
                                {
                                    "Szoba azon": "216",
                                    "Férőhely": "3",
                                    "Helyezesé": "27"
                                },
                                {
                                    "Szoba azon": "199",
                                    "Férőhely": "3",
                                    "Helyezesé": "27"
                                },
                                {
                                    "Szoba azon": "201",
                                    "Férőhely": "3",
                                    "Helyezesé": "27"
                                },
                                {
                                    "Szoba azon": "202",
                                    "Férőhely": "3",
                                    "Helyezesé": "27"
                                },
                                {
                                    "Szoba azon": "203",
                                    "Férőhely": "3",
                                    "Helyezesé": "27"
                                },
                                {
                                    "Szoba azon": "204",
                                    "Férőhely": "3",
                                    "Helyezesé": "27"
                                },
                                {
                                    "Szoba azon": "205",
                                    "Férőhely": "3",
                                    "Helyezesé": "27"
                                },
                                {
                                    "Szoba azon": "159",
                                    "Férőhely": "3",
                                    "Helyezesé": "27"
                                },
                                {
                                    "Szoba azon": "255",
                                    "Férőhely": "3",
                                    "Helyezesé": "27"
                                },
                                {
                                    "Szoba azon": "256",
                                    "Férőhely": "3",
                                    "Helyezesé": "27"
                                },
                                {
                                    "Szoba azon": "250",
                                    "Férőhely": "3",
                                    "Helyezesé": "27"
                                },
                                {
                                    "Szoba azon": "251",
                                    "Férőhely": "3",
                                    "Helyezesé": "27"
                                },
                                {
                                    "Szoba azon": "252",
                                    "Férőhely": "3",
                                    "Helyezesé": "27"
                                },
                                {
                                    "Szoba azon": "240",
                                    "Férőhely": "3",
                                    "Helyezesé": "27"
                                },
                                {
                                    "Szoba azon": "238",
                                    "Férőhely": "3",
                                    "Helyezesé": "27"
                                },
                                {
                                    "Szoba azon": "233",
                                    "Férőhely": "3",
                                    "Helyezesé": "27"
                                },
                                {
                                    "Szoba azon": "234",
                                    "Férőhely": "3",
                                    "Helyezesé": "27"
                                },
                                {
                                    "Szoba azon": "235",
                                    "Férőhely": "3",
                                    "Helyezesé": "27"
                                },
                                {
                                    "Szoba azon": "236",
                                    "Férőhely": "3",
                                    "Helyezesé": "27"
                                },
                                {
                                    "Szoba azon": "230",
                                    "Férőhely": "3",
                                    "Helyezesé": "27"
                                },
                                {
                                    "Szoba azon": "228",
                                    "Férőhely": "3",
                                    "Helyezesé": "27"
                                },
                                {
                                    "Szoba azon": "226",
                                    "Férőhely": "3",
                                    "Helyezesé": "27"
                                },
                                {
                                    "Szoba azon": "289",
                                    "Férőhely": "3",
                                    "Helyezesé": "27"
                                },
                                {
                                    "Szoba azon": "294",
                                    "Férőhely": "3",
                                    "Helyezesé": "27"
                                },
                                {
                                    "Szoba azon": "286",
                                    "Férőhely": "3",
                                    "Helyezesé": "27"
                                },
                                {
                                    "Szoba azon": "287",
                                    "Férőhely": "3",
                                    "Helyezesé": "27"
                                },
                                {
                                    "Szoba azon": "280",
                                    "Férőhely": "3",
                                    "Helyezesé": "27"
                                },
                                {
                                    "Szoba azon": "274",
                                    "Férőhely": "3",
                                    "Helyezesé": "27"
                                },
                                {
                                    "Szoba azon": "278",
                                    "Férőhely": "3",
                                    "Helyezesé": "27"
                                },
                                {
                                    "Szoba azon": "270",
                                    "Férőhely": "3",
                                    "Helyezesé": "27"
                                },
                                {
                                    "Szoba azon": "271",
                                    "Férőhely": "3",
                                    "Helyezesé": "27"
                                },
                                {
                                    "Szoba azon": "272",
                                    "Férőhely": "3",
                                    "Helyezesé": "27"
                                },
                                {
                                    "Szoba azon": "264",
                                    "Férőhely": "3",
                                    "Helyezesé": "27"
                                },
                                {
                                    "Szoba azon": "265",
                                    "Férőhely": "3",
                                    "Helyezesé": "27"
                                }
                            ]
                        },
                        "text/html": "<table><tr><th>Szoba azon</th><th>Férőhely</th><th>Helyezesé</th></tr><tr><td>58</td><td>2</td><td>1</td></tr><tr><td>182</td><td>2</td><td>2</td></tr><tr><td>185</td><td>3</td><td>3</td></tr><tr><td>70</td><td>2</td><td>4</td></tr><tr><td>94</td><td>2</td><td>5</td></tr><tr><td>12</td><td>2</td><td>6</td></tr><tr><td>172</td><td>2</td><td>6</td></tr><tr><td>35</td><td>3</td><td>7</td></tr><tr><td>48</td><td>3</td><td>7</td></tr><tr><td>74</td><td>3</td><td>7</td></tr><tr><td>122</td><td>3</td><td>7</td></tr><tr><td>121</td><td>2</td><td>8</td></tr><tr><td>140</td><td>2</td><td>8</td></tr><tr><td>110</td><td>2</td><td>8</td></tr><tr><td>55</td><td>2</td><td>8</td></tr><tr><td>38</td><td>2</td><td>8</td></tr><tr><td>1</td><td>3</td><td>9</td></tr><tr><td>3</td><td>3</td><td>9</td></tr><tr><td>43</td><td>3</td><td>9</td></tr><tr><td>83</td><td>3</td><td>9</td></tr><tr><td>88</td><td>3</td><td>9</td></tr><tr><td>89</td><td>3</td><td>9</td></tr><tr><td>117</td><td>3</td><td>9</td></tr><tr><td>198</td><td>3</td><td>9</td></tr><tr><td>165</td><td>2</td><td>10</td></tr><tr><td>149</td><td>2</td><td>10</td></tr><tr><td>156</td><td>2</td><td>10</td></tr><tr><td>163</td><td>2</td><td>10</td></tr><tr><td>118</td><td>2</td><td>10</td></tr><tr><td>109</td><td>2</td><td>10</td></tr><tr><td>127</td><td>2</td><td>10</td></tr><tr><td>139</td><td>2</td><td>10</td></tr><tr><td>80</td><td>2</td><td>10</td></tr><tr><td>59</td><td>2</td><td>10</td></tr><tr><td>39</td><td>2</td><td>10</td></tr><tr><td>27</td><td>3</td><td>11</td></tr><tr><td>49</td><td>3</td><td>11</td></tr><tr><td>96</td><td>3</td><td>11</td></tr><tr><td>97</td><td>3</td><td>11</td></tr><tr><td>138</td><td>3</td><td>11</td></tr><tr><td>143</td><td>3</td><td>11</td></tr><tr><td>115</td><td>3</td><td>11</td></tr><tr><td>193</td><td>3</td><td>11</td></tr><tr><td>187</td><td>3</td><td>11</td></tr><tr><td>195</td><td>2</td><td>12</td></tr><tr><td>161</td><td>2</td><td>12</td></tr><tr><td>150</td><td>2</td><td>12</td></tr><tr><td>148</td><td>2</td><td>12</td></tr><tr><td>169</td><td>2</td><td>12</td></tr><tr><td>106</td><td>2</td><td>12</td></tr><tr><td>126</td><td>2</td><td>12</td></tr><tr><td>145</td><td>2</td><td>12</td></tr><tr><td>141</td><td>2</td><td>12</td></tr><tr><td>130</td><td>2</td><td>12</td></tr><tr><td>137</td><td>2</td><td>12</td></tr><tr><td>78</td><td>2</td><td>12</td></tr><tr><td>42</td><td>2</td><td>12</td></tr><tr><td>64</td><td>2</td><td>12</td></tr><tr><td>67</td><td>2</td><td>12</td></tr><tr><td>28</td><td>2</td><td>12</td></tr><tr><td>29</td><td>2</td><td>12</td></tr><tr><td>19</td><td>2</td><td>12</td></tr><tr><td>33</td><td>2</td><td>12</td></tr><tr><td>4</td><td>2</td><td>12</td></tr><tr><td>7</td><td>2</td><td>12</td></tr><tr><td>15</td><td>2</td><td>12</td></tr><tr><td>17</td><td>3</td><td>13</td></tr><tr><td>18</td><td>3</td><td>13</td></tr><tr><td>6</td><td>3</td><td>13</td></tr><tr><td>9</td><td>3</td><td>13</td></tr><tr><td>22</td><td>3</td><td>13</td></tr><tr><td>36</td><td>3</td><td>13</td></tr><tr><td>44</td><td>3</td><td>13</td></tr><tr><td>54</td><td>3</td><td>13</td></tr><tr><td>77</td><td>3</td><td>13</td></tr><tr><td>82</td><td>3</td><td>13</td></tr><tr><td>92</td><td>3</td><td>13</td></tr><tr><td>132</td><td>3</td><td>13</td></tr><tr><td>133</td><td>3</td><td>13</td></tr><tr><td>134</td><td>3</td><td>13</td></tr><tr><td>146</td><td>3</td><td>13</td></tr><tr><td>124</td><td>3</td><td>13</td></tr><tr><td>120</td><td>3</td><td>13</td></tr><tr><td>181</td><td>3</td><td>13</td></tr><tr><td>176</td><td>3</td><td>13</td></tr><tr><td>197</td><td>3</td><td>13</td></tr><tr><td>188</td><td>3</td><td>13</td></tr><tr><td>189</td><td>2</td><td>14</td></tr><tr><td>190</td><td>2</td><td>14</td></tr><tr><td>191</td><td>2</td><td>14</td></tr><tr><td>170</td><td>2</td><td>14</td></tr><tr><td>171</td><td>2</td><td>14</td></tr><tr><td>168</td><td>2</td><td>14</td></tr><tr><td>175</td><td>2</td><td>14</td></tr><tr><td>157</td><td>2</td><td>14</td></tr><tr><td>164</td><td>2</td><td>14</td></tr><tr><td>154</td><td>2</td><td>14</td></tr><tr><td>119</td><td>2</td><td>14</td></tr><tr><td>107</td><td>2</td><td>14</td></tr><tr><td>128</td><td>2</td><td>14</td></tr><tr><td>131</td><td>2</td><td>14</td></tr><tr><td>99</td><td>2</td><td>14</td></tr><tr><td>111</td><td>2</td><td>14</td></tr><tr><td>81</td><td>2</td><td>14</td></tr><tr><td>86</td><td>2</td><td>14</td></tr><tr><td>52</td><td>2</td><td>14</td></tr><tr><td>45</td><td>2</td><td>14</td></tr><tr><td>62</td><td>2</td><td>14</td></tr><tr><td>61</td><td>3</td><td>15</td></tr><tr><td>51</td><td>3</td><td>15</td></tr><tr><td>20</td><td>3</td><td>15</td></tr><tr><td>8</td><td>3</td><td>15</td></tr><tr><td>16</td><td>3</td><td>15</td></tr><tr><td>87</td><td>3</td><td>15</td></tr><tr><td>79</td><td>3</td><td>15</td></tr><tr><td>112</td><td>3</td><td>15</td></tr><tr><td>113</td><td>3</td><td>15</td></tr><tr><td>93</td><td>3</td><td>15</td></tr><tr><td>144</td><td>3</td><td>15</td></tr><tr><td>123</td><td>3</td><td>15</td></tr><tr><td>155</td><td>3</td><td>15</td></tr><tr><td>153</td><td>3</td><td>15</td></tr><tr><td>160</td><td>3</td><td>15</td></tr><tr><td>152</td><td>2</td><td>16</td></tr><tr><td>173</td><td>2</td><td>16</td></tr><tr><td>174</td><td>2</td><td>16</td></tr><tr><td>186</td><td>2</td><td>16</td></tr><tr><td>184</td><td>2</td><td>16</td></tr><tr><td>196</td><td>2</td><td>16</td></tr><tr><td>129</td><td>2</td><td>16</td></tr><tr><td>100</td><td>2</td><td>16</td></tr><tr><td>114</td><td>2</td><td>16</td></tr><tr><td>98</td><td>2</td><td>16</td></tr><tr><td>103</td><td>2</td><td>16</td></tr><tr><td>85</td><td>2</td><td>16</td></tr><tr><td>91</td><td>2</td><td>16</td></tr><tr><td>11</td><td>2</td><td>16</td></tr><tr><td>5</td><td>2</td><td>16</td></tr><tr><td>21</td><td>2</td><td>16</td></tr><tr><td>50</td><td>2</td><td>16</td></tr><tr><td>57</td><td>2</td><td>16</td></tr><tr><td>63</td><td>2</td><td>16</td></tr><tr><td>72</td><td>2</td><td>16</td></tr><tr><td>73</td><td>2</td><td>16</td></tr><tr><td>66</td><td>3</td><td>17</td></tr><tr><td>69</td><td>3</td><td>17</td></tr><tr><td>46</td><td>3</td><td>17</td></tr><tr><td>34</td><td>3</td><td>17</td></tr><tr><td>40</td><td>3</td><td>17</td></tr><tr><td>2</td><td>3</td><td>17</td></tr><tr><td>10</td><td>3</td><td>17</td></tr><tr><td>13</td><td>3</td><td>17</td></tr><tr><td>90</td><td>3</td><td>17</td></tr><tr><td>84</td><td>3</td><td>17</td></tr><tr><td>104</td><td>3</td><td>17</td></tr><tr><td>95</td><td>3</td><td>17</td></tr><tr><td>177</td><td>3</td><td>17</td></tr><tr><td>178</td><td>3</td><td>17</td></tr><tr><td>183</td><td>3</td><td>17</td></tr><tr><td>180</td><td>2</td><td>18</td></tr><tr><td>166</td><td>2</td><td>18</td></tr><tr><td>151</td><td>2</td><td>18</td></tr><tr><td>158</td><td>2</td><td>18</td></tr><tr><td>101</td><td>2</td><td>18</td></tr><tr><td>75</td><td>2</td><td>18</td></tr><tr><td>76</td><td>2</td><td>18</td></tr><tr><td>136</td><td>2</td><td>18</td></tr><tr><td>23</td><td>2</td><td>18</td></tr><tr><td>37</td><td>2</td><td>18</td></tr><tr><td>68</td><td>2</td><td>18</td></tr><tr><td>71</td><td>3</td><td>19</td></tr><tr><td>30</td><td>3</td><td>19</td></tr><tr><td>31</td><td>3</td><td>19</td></tr><tr><td>14</td><td>3</td><td>19</td></tr><tr><td>135</td><td>3</td><td>19</td></tr><tr><td>162</td><td>3</td><td>19</td></tr><tr><td>179</td><td>3</td><td>19</td></tr><tr><td>24</td><td>4</td><td>20</td></tr><tr><td>26</td><td>2</td><td>21</td></tr><tr><td>47</td><td>2</td><td>21</td></tr><tr><td>53</td><td>2</td><td>21</td></tr><tr><td>56</td><td>2</td><td>21</td></tr><tr><td>108</td><td>2</td><td>21</td></tr><tr><td>102</td><td>2</td><td>21</td></tr><tr><td>105</td><td>2</td><td>21</td></tr><tr><td>192</td><td>2</td><td>21</td></tr><tr><td>167</td><td>3</td><td>22</td></tr><tr><td>116</td><td>3</td><td>22</td></tr><tr><td>142</td><td>3</td><td>22</td></tr><tr><td>25</td><td>3</td><td>22</td></tr><tr><td>41</td><td>3</td><td>22</td></tr><tr><td>32</td><td>2</td><td>23</td></tr><tr><td>65</td><td>2</td><td>23</td></tr><tr><td>147</td><td>2</td><td>23</td></tr><tr><td>125</td><td>2</td><td>23</td></tr><tr><td>194</td><td>2</td><td>23</td></tr><tr><td>60</td><td>3</td><td>24</td></tr><tr><td>261</td><td>1</td><td>25</td></tr><tr><td>262</td><td>1</td><td>25</td></tr><tr><td>263</td><td>2</td><td>26</td></tr><tr><td>266</td><td>2</td><td>26</td></tr><tr><td>267</td><td>2</td><td>26</td></tr><tr><td>268</td><td>2</td><td>26</td></tr><tr><td>269</td><td>2</td><td>26</td></tr><tr><td>275</td><td>2</td><td>26</td></tr><tr><td>276</td><td>2</td><td>26</td></tr><tr><td>277</td><td>2</td><td>26</td></tr><tr><td>273</td><td>2</td><td>26</td></tr><tr><td>279</td><td>2</td><td>26</td></tr><tr><td>281</td><td>2</td><td>26</td></tr><tr><td>282</td><td>2</td><td>26</td></tr><tr><td>283</td><td>2</td><td>26</td></tr><tr><td>284</td><td>2</td><td>26</td></tr><tr><td>285</td><td>2</td><td>26</td></tr><tr><td>290</td><td>2</td><td>26</td></tr><tr><td>291</td><td>2</td><td>26</td></tr><tr><td>292</td><td>2</td><td>26</td></tr><tr><td>293</td><td>2</td><td>26</td></tr><tr><td>288</td><td>2</td><td>26</td></tr><tr><td>222</td><td>2</td><td>26</td></tr><tr><td>223</td><td>2</td><td>26</td></tr><tr><td>224</td><td>2</td><td>26</td></tr><tr><td>225</td><td>2</td><td>26</td></tr><tr><td>227</td><td>2</td><td>26</td></tr><tr><td>229</td><td>2</td><td>26</td></tr><tr><td>231</td><td>2</td><td>26</td></tr><tr><td>232</td><td>2</td><td>26</td></tr><tr><td>237</td><td>2</td><td>26</td></tr><tr><td>239</td><td>2</td><td>26</td></tr><tr><td>241</td><td>2</td><td>26</td></tr><tr><td>242</td><td>2</td><td>26</td></tr><tr><td>243</td><td>2</td><td>26</td></tr><tr><td>244</td><td>2</td><td>26</td></tr><tr><td>245</td><td>2</td><td>26</td></tr><tr><td>246</td><td>2</td><td>26</td></tr><tr><td>247</td><td>2</td><td>26</td></tr><tr><td>248</td><td>2</td><td>26</td></tr><tr><td>249</td><td>2</td><td>26</td></tr><tr><td>253</td><td>2</td><td>26</td></tr><tr><td>254</td><td>2</td><td>26</td></tr><tr><td>257</td><td>2</td><td>26</td></tr><tr><td>258</td><td>2</td><td>26</td></tr><tr><td>259</td><td>2</td><td>26</td></tr><tr><td>260</td><td>2</td><td>26</td></tr><tr><td>200</td><td>2</td><td>26</td></tr><tr><td>215</td><td>2</td><td>26</td></tr><tr><td>217</td><td>2</td><td>26</td></tr><tr><td>219</td><td>2</td><td>26</td></tr><tr><td>206</td><td>2</td><td>26</td></tr><tr><td>207</td><td>2</td><td>26</td></tr><tr><td>208</td><td>2</td><td>26</td></tr><tr><td>210</td><td>2</td><td>26</td></tr><tr><td>211</td><td>2</td><td>26</td></tr><tr><td>212</td><td>3</td><td>27</td></tr><tr><td>213</td><td>3</td><td>27</td></tr><tr><td>214</td><td>3</td><td>27</td></tr><tr><td>209</td><td>3</td><td>27</td></tr><tr><td>220</td><td>3</td><td>27</td></tr><tr><td>221</td><td>3</td><td>27</td></tr><tr><td>218</td><td>3</td><td>27</td></tr><tr><td>216</td><td>3</td><td>27</td></tr><tr><td>199</td><td>3</td><td>27</td></tr><tr><td>201</td><td>3</td><td>27</td></tr><tr><td>202</td><td>3</td><td>27</td></tr><tr><td>203</td><td>3</td><td>27</td></tr><tr><td>204</td><td>3</td><td>27</td></tr><tr><td>205</td><td>3</td><td>27</td></tr><tr><td>159</td><td>3</td><td>27</td></tr><tr><td>255</td><td>3</td><td>27</td></tr><tr><td>256</td><td>3</td><td>27</td></tr><tr><td>250</td><td>3</td><td>27</td></tr><tr><td>251</td><td>3</td><td>27</td></tr><tr><td>252</td><td>3</td><td>27</td></tr><tr><td>240</td><td>3</td><td>27</td></tr><tr><td>238</td><td>3</td><td>27</td></tr><tr><td>233</td><td>3</td><td>27</td></tr><tr><td>234</td><td>3</td><td>27</td></tr><tr><td>235</td><td>3</td><td>27</td></tr><tr><td>236</td><td>3</td><td>27</td></tr><tr><td>230</td><td>3</td><td>27</td></tr><tr><td>228</td><td>3</td><td>27</td></tr><tr><td>226</td><td>3</td><td>27</td></tr><tr><td>289</td><td>3</td><td>27</td></tr><tr><td>294</td><td>3</td><td>27</td></tr><tr><td>286</td><td>3</td><td>27</td></tr><tr><td>287</td><td>3</td><td>27</td></tr><tr><td>280</td><td>3</td><td>27</td></tr><tr><td>274</td><td>3</td><td>27</td></tr><tr><td>278</td><td>3</td><td>27</td></tr><tr><td>270</td><td>3</td><td>27</td></tr><tr><td>271</td><td>3</td><td>27</td></tr><tr><td>272</td><td>3</td><td>27</td></tr><tr><td>264</td><td>3</td><td>27</td></tr><tr><td>265</td><td>3</td><td>27</td></tr></table>"
                    },
                    "metadata": {}
                }
            ],
            "execution_count": 4
        }
    ]
}