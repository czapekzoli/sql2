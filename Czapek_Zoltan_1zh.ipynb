{
    "metadata": {
        "kernelspec": {
            "name": "SQL",
            "display_name": "SQL",
            "language": "sql"
        },
        "language_info": {
            "name": "sql",
            "version": ""
        }
    },
    "nbformat_minor": 2,
    "nbformat": 4,
    "cells": [
        {
            "cell_type": "code",
            "source": [
                "SELECT DATEDIFF(YEAR, SZUL_DAT, GETDATE()) as 'Kor', COUNT(USERNEV) as 'fő (db)'\n",
                "FROM Vendeg\n",
                "GROUP BY DATEDIFF(YEAR, SZUL_DAT, GETDATE())\n",
                "HAVING  COUNT(USERNEV)>=5 AND DATEDIFF(YEAR, SZUL_DAT, GETDATE())>=18"
            ],
            "metadata": {
                "azdata_cell_guid": "a98acec1-fa40-47e5-b2ab-caa09d268dc1",
                "language": "sql",
                "tags": []
            },
            "outputs": [
                {
                    "output_type": "display_data",
                    "data": {
                        "text/html": "(23 rows affected)"
                    },
                    "metadata": {}
                },
                {
                    "output_type": "display_data",
                    "data": {
                        "text/html": "Total execution time: 00:00:00.020"
                    },
                    "metadata": {}
                },
                {
                    "output_type": "execute_result",
                    "metadata": {},
                    "execution_count": 11,
                    "data": {
                        "application/vnd.dataresource+json": {
                            "schema": {
                                "fields": [
                                    {
                                        "name": "Kor"
                                    },
                                    {
                                        "name": "fő (db)"
                                    }
                                ]
                            },
                            "data": [
                                {
                                    "Kor": "28",
                                    "fő (db)": "12"
                                },
                                {
                                    "Kor": "29",
                                    "fő (db)": "7"
                                },
                                {
                                    "Kor": "30",
                                    "fő (db)": "6"
                                },
                                {
                                    "Kor": "32",
                                    "fő (db)": "5"
                                },
                                {
                                    "Kor": "34",
                                    "fő (db)": "6"
                                },
                                {
                                    "Kor": "35",
                                    "fő (db)": "8"
                                },
                                {
                                    "Kor": "36",
                                    "fő (db)": "7"
                                },
                                {
                                    "Kor": "37",
                                    "fő (db)": "6"
                                },
                                {
                                    "Kor": "38",
                                    "fő (db)": "5"
                                },
                                {
                                    "Kor": "39",
                                    "fő (db)": "9"
                                },
                                {
                                    "Kor": "40",
                                    "fő (db)": "6"
                                },
                                {
                                    "Kor": "41",
                                    "fő (db)": "8"
                                },
                                {
                                    "Kor": "42",
                                    "fő (db)": "8"
                                },
                                {
                                    "Kor": "45",
                                    "fő (db)": "7"
                                },
                                {
                                    "Kor": "46",
                                    "fő (db)": "7"
                                },
                                {
                                    "Kor": "47",
                                    "fő (db)": "7"
                                },
                                {
                                    "Kor": "48",
                                    "fő (db)": "5"
                                },
                                {
                                    "Kor": "49",
                                    "fő (db)": "7"
                                },
                                {
                                    "Kor": "50",
                                    "fő (db)": "10"
                                },
                                {
                                    "Kor": "54",
                                    "fő (db)": "5"
                                },
                                {
                                    "Kor": "56",
                                    "fő (db)": "8"
                                },
                                {
                                    "Kor": "57",
                                    "fő (db)": "7"
                                },
                                {
                                    "Kor": "58",
                                    "fő (db)": "8"
                                }
                            ]
                        },
                        "text/html": [
                            "<table>",
                            "<tr><th>Kor</th><th>fő (db)</th></tr>",
                            "<tr><td>28</td><td>12</td></tr>",
                            "<tr><td>29</td><td>7</td></tr>",
                            "<tr><td>30</td><td>6</td></tr>",
                            "<tr><td>32</td><td>5</td></tr>",
                            "<tr><td>34</td><td>6</td></tr>",
                            "<tr><td>35</td><td>8</td></tr>",
                            "<tr><td>36</td><td>7</td></tr>",
                            "<tr><td>37</td><td>6</td></tr>",
                            "<tr><td>38</td><td>5</td></tr>",
                            "<tr><td>39</td><td>9</td></tr>",
                            "<tr><td>40</td><td>6</td></tr>",
                            "<tr><td>41</td><td>8</td></tr>",
                            "<tr><td>42</td><td>8</td></tr>",
                            "<tr><td>45</td><td>7</td></tr>",
                            "<tr><td>46</td><td>7</td></tr>",
                            "<tr><td>47</td><td>7</td></tr>",
                            "<tr><td>48</td><td>5</td></tr>",
                            "<tr><td>49</td><td>7</td></tr>",
                            "<tr><td>50</td><td>10</td></tr>",
                            "<tr><td>54</td><td>5</td></tr>",
                            "<tr><td>56</td><td>8</td></tr>",
                            "<tr><td>57</td><td>7</td></tr>",
                            "<tr><td>58</td><td>8</td></tr>",
                            "</table>"
                        ]
                    }
                }
            ],
            "execution_count": 11
        },
        {
            "cell_type": "code",
            "source": [
                "SELECT SZALLAS_NEV as 'Szállás neve', COUNT(fog.FOGLALAS_PK) as 'Foglalások száma'\n",
                "FROM Szallashely sz JOIN Szoba szob ON sz.SZALLAS_ID=szob.SZALLAS_FK\n",
                "                    JOIN foglalas fog ON fog.SZOBA_FK=szob.SZOBA_ID\n",
                "GROUP BY SZALLAS_NEV\n",
                "UNION\n",
                "SELECT SZALLAS_NEV, 0\n",
                "FROM Szallashely\n",
                "\n",
                ""
            ],
            "metadata": {
                "azdata_cell_guid": "3bc11ca0-5dc2-4dec-804c-7d3f79c9c7bf",
                "language": "sql"
            },
            "outputs": [
                {
                    "output_type": "display_data",
                    "data": {
                        "text/html": "(29 rows affected)"
                    },
                    "metadata": {}
                },
                {
                    "output_type": "display_data",
                    "data": {
                        "text/html": "Total execution time: 00:00:00.021"
                    },
                    "metadata": {}
                },
                {
                    "output_type": "execute_result",
                    "metadata": {},
                    "execution_count": 9,
                    "data": {
                        "application/vnd.dataresource+json": {
                            "schema": {
                                "fields": [
                                    {
                                        "name": "Szállás neve"
                                    },
                                    {
                                        "name": "Foglalások száma"
                                    }
                                ]
                            },
                            "data": [
                                {
                                    "Szállás neve": "Bagoly Hotel",
                                    "Foglalások száma": "0"
                                },
                                {
                                    "Szállás neve": "Családi Ház",
                                    "Foglalások száma": "0"
                                },
                                {
                                    "Szállás neve": "Családi Ház",
                                    "Foglalások száma": "18"
                                },
                                {
                                    "Szállás neve": "Fortuna Apartman",
                                    "Foglalások száma": "0"
                                },
                                {
                                    "Szállás neve": "Fortuna Apartman",
                                    "Foglalások száma": "39"
                                },
                                {
                                    "Szállás neve": "Fortuna panzió",
                                    "Foglalások száma": "0"
                                },
                                {
                                    "Szállás neve": "Fortuna Panzió",
                                    "Foglalások száma": "126"
                                },
                                {
                                    "Szállás neve": "Gold Hotel",
                                    "Foglalások száma": "0"
                                },
                                {
                                    "Szállás neve": "Gold Hotel",
                                    "Foglalások száma": "179"
                                },
                                {
                                    "Szállás neve": "Hotel Három Hattyú",
                                    "Foglalások száma": "0"
                                },
                                {
                                    "Szállás neve": "Hotel Három Hattyú",
                                    "Foglalások száma": "204"
                                },
                                {
                                    "Szállás neve": "Jáde panzió",
                                    "Foglalások száma": "0"
                                },
                                {
                                    "Szállás neve": "Jáde panzió",
                                    "Foglalások száma": "29"
                                },
                                {
                                    "Szállás neve": "Kentaur Hotel",
                                    "Foglalások száma": "0"
                                },
                                {
                                    "Szállás neve": "Kentaur Hotel",
                                    "Foglalások száma": "179"
                                },
                                {
                                    "Szállás neve": "Kollégium",
                                    "Foglalások száma": "0"
                                },
                                {
                                    "Szállás neve": "Lagúna Hotel",
                                    "Foglalások száma": "0"
                                },
                                {
                                    "Szállás neve": "Lagúna Hotel",
                                    "Foglalások száma": "123"
                                },
                                {
                                    "Szállás neve": "Müller Vendégház",
                                    "Foglalások száma": "0"
                                },
                                {
                                    "Szállás neve": "Nyárfás Vendégház",
                                    "Foglalások száma": "0"
                                },
                                {
                                    "Szállás neve": "Partiszél Vendégház",
                                    "Foglalások száma": "0"
                                },
                                {
                                    "Szállás neve": "Partiszél Vendégház",
                                    "Foglalások száma": "26"
                                },
                                {
                                    "Szállás neve": "Riviéra Panzió",
                                    "Foglalások száma": "0"
                                },
                                {
                                    "Szállás neve": "Sába-Ház",
                                    "Foglalások száma": "0"
                                },
                                {
                                    "Szállás neve": "Sába-Ház",
                                    "Foglalások száma": "70"
                                },
                                {
                                    "Szállás neve": "Szarvas Hotel",
                                    "Foglalások száma": "0"
                                },
                                {
                                    "Szállás neve": "Szieszta Apartmanház",
                                    "Foglalások száma": "0"
                                },
                                {
                                    "Szállás neve": "Szieszta Apartmanház",
                                    "Foglalások száma": "34"
                                },
                                {
                                    "Szállás neve": "Tímárház Panzió",
                                    "Foglalások száma": "0"
                                }
                            ]
                        },
                        "text/html": [
                            "<table>",
                            "<tr><th>Szállás neve</th><th>Foglalások száma</th></tr>",
                            "<tr><td>Bagoly Hotel</td><td>0</td></tr>",
                            "<tr><td>Családi Ház</td><td>0</td></tr>",
                            "<tr><td>Családi Ház</td><td>18</td></tr>",
                            "<tr><td>Fortuna Apartman</td><td>0</td></tr>",
                            "<tr><td>Fortuna Apartman</td><td>39</td></tr>",
                            "<tr><td>Fortuna panzió</td><td>0</td></tr>",
                            "<tr><td>Fortuna Panzió</td><td>126</td></tr>",
                            "<tr><td>Gold Hotel</td><td>0</td></tr>",
                            "<tr><td>Gold Hotel</td><td>179</td></tr>",
                            "<tr><td>Hotel Három Hattyú</td><td>0</td></tr>",
                            "<tr><td>Hotel Három Hattyú</td><td>204</td></tr>",
                            "<tr><td>Jáde panzió</td><td>0</td></tr>",
                            "<tr><td>Jáde panzió</td><td>29</td></tr>",
                            "<tr><td>Kentaur Hotel</td><td>0</td></tr>",
                            "<tr><td>Kentaur Hotel</td><td>179</td></tr>",
                            "<tr><td>Kollégium</td><td>0</td></tr>",
                            "<tr><td>Lagúna Hotel</td><td>0</td></tr>",
                            "<tr><td>Lagúna Hotel</td><td>123</td></tr>",
                            "<tr><td>Müller Vendégház</td><td>0</td></tr>",
                            "<tr><td>Nyárfás Vendégház</td><td>0</td></tr>",
                            "<tr><td>Partiszél Vendégház</td><td>0</td></tr>",
                            "<tr><td>Partiszél Vendégház</td><td>26</td></tr>",
                            "<tr><td>Riviéra Panzió</td><td>0</td></tr>",
                            "<tr><td>Sába-Ház</td><td>0</td></tr>",
                            "<tr><td>Sába-Ház</td><td>70</td></tr>",
                            "<tr><td>Szarvas Hotel</td><td>0</td></tr>",
                            "<tr><td>Szieszta Apartmanház</td><td>0</td></tr>",
                            "<tr><td>Szieszta Apartmanház</td><td>34</td></tr>",
                            "<tr><td>Tímárház Panzió</td><td>0</td></tr>",
                            "</table>"
                        ]
                    }
                }
            ],
            "execution_count": 9
        }
    ]
}